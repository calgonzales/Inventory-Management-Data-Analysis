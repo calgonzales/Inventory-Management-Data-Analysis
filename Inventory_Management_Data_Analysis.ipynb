{
 "cells": [
  {
   "cell_type": "markdown",
   "id": "05caa9d2",
   "metadata": {},
   "source": [
    "# Inventory Analysis for A Liquor Merchandise Entity\n",
    "\n",
    "The liquor merchandise entity operates as a medium-sized manufacturing company specializing in the sale of diverse liquor brands. Offering an extensive range of products, they manage inventories encompassing raw materials, work-in-progress (WIP), and finished goods. However, the company has encountered challenges in inventory management, such as stockouts, excess inventory, and rising carrying costs. In response to these issues, my goal is to initiate a comprehensive inventory analysis to pinpoint areas for enhancement and optimize their overall inventory management practices.\n",
    "\n",
    "# Objectives\n",
    "The inventory management plan involves maintaining detailed records of all transactions, including purchases, production, sales, and adjustments. It includes analyzing historical sales data for demand forecasting, determining optimal order quantities with Economic Order Quantity (EOQ) analysis, calculating reorder points, assessing lead times, analyzing carrying costs, identifying process improvements, and evaluating inventory turnover ratios. The deliverables will encompass comprehensive insights and recommendations based on these analyses to enhance overall inventory management efficiency.\n",
    "\n"
   ]
  },
  {
   "cell_type": "code",
   "execution_count": 1,
   "id": "71e47bab-3398-472a-b516-c400643e2cb9",
   "metadata": {},
   "outputs": [],
   "source": [
    "# library imporation\n",
    "import pandas as pd\n",
    "import numpy as np\n",
    "import seaborn as sns\n",
    "import matplotlib.pyplot as plt\n",
    "\n",
    "# loading datasets\n",
    "beg_inv = pd.read_csv('dataset/BegInvFINAL12312016.csv')\n",
    "end_inv = pd.read_csv('dataset/EndInvFINAL12312016.csv')\n",
    "invoice_purchases = pd.read_csv('dataset/InvoicePurchases12312016.csv')\n",
    "sales_1 = pd.read_csv('dataset/SalesFINAL12312016-1.csv')\n",
    "sales_2 = pd.read_csv('dataset/SalesFINAL12312016-2.csv')\n",
    "purchases_1 = pd.read_csv('dataset/PurchasesFINAL12312016-1.csv')\n",
    "purchases_2 = pd.read_csv('dataset/PurchasesFINAL12312016-2.csv')\n",
    "purchases_3 = pd.read_csv('dataset/PurchasesFINAL12312016-3.csv')\n",
    "purchases_4 = pd.read_csv('dataset/PurchasesFINAL12312016-4.csv')\n",
    "purchase_prices = pd.read_csv('dataset/2017PurchasePricesDec.csv')\n",
    "\n",
    "# concatenating sales and purchases dataset parts\n",
    "sales = pd.concat([sales_1, sales_2], ignore_index=True)\n",
    "purchases = pd.concat([purchases_1, purchases_2, purchases_3, purchases_4], ignore_index=True)"
   ]
  },
  {
   "cell_type": "code",
   "execution_count": 2,
   "id": "c2d3239f-3b16-4697-b482-2f0217a1865d",
   "metadata": {},
   "outputs": [
    {
     "name": "stdout",
     "output_type": "stream",
     "text": [
      "beg_inv Columns: ['InventoryId', 'Store', 'City', 'Brand', 'Description', 'Size', 'onHand', 'Price', 'startDate']\n",
      "end_inv Columns:['InventoryId', 'Store', 'City', 'Brand', 'Description', 'Size', 'onHand', 'Price', 'endDate']\n",
      "invoice_purchases Columns: ['VendorNumber', 'VendorName', 'InvoiceDate', 'PONumber', 'PODate', 'PayDate', 'Quantity', 'Dollars', 'Freight', 'Approval']\n",
      "sales Columns: ['InventoryId', 'Store', 'Brand', 'Description', 'Size', 'SalesQuantity', 'SalesDollars', 'SalesPrice', 'SalesDate', 'Volume', 'Classification', 'ExciseTax', 'VendorNo', 'VendorName']\n",
      "purchases Columns: ['InventoryId', 'Store', 'Brand', 'Description', 'Size', 'VendorNumber', 'VendorName', 'PONumber', 'PODate', 'ReceivingDate', 'InvoiceDate', 'PayDate', 'PurchasePrice', 'Quantity', 'Dollars', 'Classification']\n",
      "purchase_prices Columns: ['Brand', 'Description', 'Price', 'Size', 'Volume', 'Classification', 'PurchasePrice', 'VendorNumber', 'VendorName']\n"
     ]
    }
   ],
   "source": [
    "# columns\n",
    "print(f\"beg_inv Columns: {beg_inv.columns.tolist()}\")\n",
    "print(f\"end_inv Columns:{end_inv.columns.tolist()}\")\n",
    "print(f\"invoice_purchases Columns: {invoice_purchases.columns.tolist()}\")\n",
    "print(f\"sales Columns: {sales.columns.tolist()}\")\n",
    "print(f\"purchases Columns: {purchases.columns.tolist()}\")\n",
    "print(f\"purchase_prices Columns: {purchase_prices.columns.tolist()}\")"
   ]
  },
  {
   "cell_type": "markdown",
   "id": "04599862",
   "metadata": {},
   "source": [
    "# i. Data Wrangling\n",
    "\n",
    "Before we get to the nitty-gritty part of data analysis, we need to make sure that the dataset we are using are clean, meaning it is accurate, complete, and in a format suitable for analysis. \n",
    "\n",
    "First of all, I merged 'Description' and 'Size' to simplify the column and call it 'Product'. This will come in handy later on when we compute for the individual product performance (i.e. top selling, top grossing, etc).\n",
    "My next step was to remove unnecessary columns and trim the dataframe by slicing to exclude columns that are irrelevant to our analysis."
   ]
  },
  {
   "cell_type": "code",
   "execution_count": 3,
   "id": "c9e7a969",
   "metadata": {},
   "outputs": [],
   "source": [
    "# creation of product name column\n",
    "sales['Product'] = sales['Description'] + ' ' + sales['Size']\n",
    "purchase_prices['Product'] = purchase_prices['Description'] + ' ' + purchase_prices['Size']\n",
    "purchases['Product'] = purchases['Description'] + ' ' + purchases['Size']\n",
    "beg_inv['Product'] = beg_inv['Description'] + ' ' + beg_inv['Size']\n",
    "end_inv['Product'] = end_inv['Description'] + ' ' + end_inv['Size']\n",
    "\n",
    "# slicing of dataframe to remove irrelevant columns for our analysis\n",
    "sales_sliced = sales.loc[:, ['Product', 'SalesPrice', 'SalesQuantity', 'Store']]\n",
    "purchase_prices_sliced = purchase_prices.loc[:, ['Product', 'PurchasePrice']]\n",
    "purchase_prices_sliced = purchase_prices_sliced.rename(columns={'PurchasePrice': 'Price'})\n",
    "purchases_sliced = purchases.loc[:, ['Product', 'PurchasePrice']]\n",
    "purchases_sliced = purchases_sliced.rename(columns={'PurchasePrice': 'Price'})\n",
    "beg_inv_sliced = beg_inv.loc[:, ['Product', 'Price']]\n",
    "end_inv_sliced = end_inv.loc[:, ['Product', 'Price']]"
   ]
  },
  {
   "cell_type": "markdown",
   "id": "128b5ae8",
   "metadata": {},
   "source": [
    "On the sales and purchase dataset, I converted the string-type dates into datetime format. This will come in handy later for the computation of lead time:"
   ]
  },
  {
   "cell_type": "code",
   "execution_count": 4,
   "id": "83cf0e42",
   "metadata": {},
   "outputs": [],
   "source": [
    "# data cleaning: converting string dates to datetime\n",
    "sales['SalesDate'] = pd.to_datetime(sales['SalesDate'])\n",
    "purchases['PODate'] = pd.to_datetime(purchases['PODate'])\n",
    "purchases['ReceivingDate'] = pd.to_datetime(purchases['ReceivingDate'])"
   ]
  },
  {
   "cell_type": "markdown",
   "id": "a2b3ebe0",
   "metadata": {},
   "source": [
    "To compute the income, we need information on sales quantity, sales price, and cost. However, the sales dataset does not include the price/cost per sale. I had to create a consolidated price listing by combining the beginning, ending, and purchase_price datasets. After that, I merged the sales table with the purchase price listing to match revenue against expenses. Now that I have a dataframe containing sales and purchase prices called 'final_sales_data,' we are ready for analysis."
   ]
  },
  {
   "cell_type": "code",
   "execution_count": 5,
   "id": "a94788cc",
   "metadata": {},
   "outputs": [],
   "source": [
    "# consolidation of listings and dropping of duplicate on the final purchase price listing\n",
    "price_listing = pd.concat([purchase_prices_sliced, purchases_sliced, beg_inv_sliced, end_inv_sliced], ignore_index=True) # consolidation of listings\n",
    "price_listing = price_listing.drop_duplicates(subset='Product').reset_index(drop=True) # dropping of duplicates\n",
    "\n",
    "# merging sales and price_listing dataframe\n",
    "final_sales_data = pd.merge(sales_sliced, price_listing, on='Product', how='left')"
   ]
  },
  {
   "cell_type": "markdown",
   "id": "4606c734",
   "metadata": {},
   "source": [
    "On final_sales_data, I created a new column called \"Income\", deducting SalesPrice by Price then multiplying by SalesQuantity to get the income per product."
   ]
  },
  {
   "cell_type": "code",
   "execution_count": 6,
   "id": "4c2bdf32",
   "metadata": {},
   "outputs": [],
   "source": [
    "# income computation\n",
    "final_sales_data[\"Income\"] = final_sales_data[\"SalesQuantity\"] * (final_sales_data[\"SalesPrice\"] - final_sales_data[\"Price\"])"
   ]
  },
  {
   "cell_type": "markdown",
   "id": "827935ce",
   "metadata": {},
   "source": [
    "# ii. Top Performers Overview\n",
    "\n",
    "Now that all products now have their respective income, I can now group the store branches and sum their income. One more thing before doing so, I noticed that the final_sales_data only contains the store ID column, not the branch location/name. By looking at the beg_invt dataset, I can see that it contains the store ID and its respective store location/name. I created a temporary table that contains store id and its corresponding city and merged that with the store_income to replace store id with actual city name of the branch. As you can see below, there are two branches in Doncaster. Both of them have outstanding performance (Top #1 and #3)\n",
    "\n",
    "**1. Top Performing Store Branches:**"
   ]
  },
  {
   "cell_type": "code",
   "execution_count": 7,
   "id": "bf52928d",
   "metadata": {},
   "outputs": [
    {
     "data": {
      "text/html": [
       "<div>\n",
       "<style scoped>\n",
       "    .dataframe tbody tr th:only-of-type {\n",
       "        vertical-align: middle;\n",
       "    }\n",
       "\n",
       "    .dataframe tbody tr th {\n",
       "        vertical-align: top;\n",
       "    }\n",
       "\n",
       "    .dataframe thead th {\n",
       "        text-align: right;\n",
       "    }\n",
       "</style>\n",
       "<table border=\"1\" class=\"dataframe\">\n",
       "  <thead>\n",
       "    <tr style=\"text-align: right;\">\n",
       "      <th></th>\n",
       "      <th>Income</th>\n",
       "      <th>Store</th>\n",
       "    </tr>\n",
       "  </thead>\n",
       "  <tbody>\n",
       "    <tr>\n",
       "      <th>0</th>\n",
       "      <td>502594.90</td>\n",
       "      <td>PITMERDEN</td>\n",
       "    </tr>\n",
       "    <tr>\n",
       "      <th>1</th>\n",
       "      <td>466921.63</td>\n",
       "      <td>DONCASTER</td>\n",
       "    </tr>\n",
       "    <tr>\n",
       "      <th>2</th>\n",
       "      <td>455387.35</td>\n",
       "      <td>WANBORNE</td>\n",
       "    </tr>\n",
       "    <tr>\n",
       "      <th>3</th>\n",
       "      <td>420576.21</td>\n",
       "      <td>DONCASTER</td>\n",
       "    </tr>\n",
       "    <tr>\n",
       "      <th>4</th>\n",
       "      <td>418563.90</td>\n",
       "      <td>EANVERNESS</td>\n",
       "    </tr>\n",
       "  </tbody>\n",
       "</table>\n",
       "</div>"
      ],
      "text/plain": [
       "      Income       Store\n",
       "0  502594.90   PITMERDEN\n",
       "1  466921.63   DONCASTER\n",
       "2  455387.35    WANBORNE\n",
       "3  420576.21   DONCASTER\n",
       "4  418563.90  EANVERNESS"
      ]
     },
     "execution_count": 7,
     "metadata": {},
     "output_type": "execute_result"
    }
   ],
   "source": [
    "# store id\n",
    "store_id = beg_inv.drop_duplicates(subset='Store').loc[:, ['Store', 'City']]\n",
    "\n",
    "# Store Income\n",
    "store_income = final_sales_data.groupby('Store').agg({'Income': 'sum'}).sort_values(by=\"Income\", ascending=False).head(5).reset_index()\n",
    "store_income = pd.merge(store_income, store_id, on='Store')\n",
    "store_income = store_income.drop(columns=['Store']).rename(columns={'City': 'Store'})\n",
    "store_income = store_income.rename(columns={'City': 'Store'})\n",
    "store_income"
   ]
  },
  {
   "cell_type": "markdown",
   "id": "85b58b22",
   "metadata": {},
   "source": [
    "**2. Top Selling Brands:**"
   ]
  },
  {
   "cell_type": "code",
   "execution_count": 8,
   "id": "6e0a7a0d",
   "metadata": {},
   "outputs": [
    {
     "data": {
      "text/html": [
       "<div>\n",
       "<style scoped>\n",
       "    .dataframe tbody tr th:only-of-type {\n",
       "        vertical-align: middle;\n",
       "    }\n",
       "\n",
       "    .dataframe tbody tr th {\n",
       "        vertical-align: top;\n",
       "    }\n",
       "\n",
       "    .dataframe thead th {\n",
       "        text-align: right;\n",
       "    }\n",
       "</style>\n",
       "<table border=\"1\" class=\"dataframe\">\n",
       "  <thead>\n",
       "    <tr style=\"text-align: right;\">\n",
       "      <th></th>\n",
       "      <th>Product</th>\n",
       "      <th>SalesQuantity</th>\n",
       "    </tr>\n",
       "  </thead>\n",
       "  <tbody>\n",
       "    <tr>\n",
       "      <th>1</th>\n",
       "      <td>Smirnoff 80 Proof</td>\n",
       "      <td>43423</td>\n",
       "    </tr>\n",
       "    <tr>\n",
       "      <th>2</th>\n",
       "      <td>Capt Morgan Spiced Rum</td>\n",
       "      <td>35866</td>\n",
       "    </tr>\n",
       "    <tr>\n",
       "      <th>3</th>\n",
       "      <td>Dr McGillicuddy's Mentholmnt</td>\n",
       "      <td>24188</td>\n",
       "    </tr>\n",
       "    <tr>\n",
       "      <th>4</th>\n",
       "      <td>Yukon Jack</td>\n",
       "      <td>24037</td>\n",
       "    </tr>\n",
       "    <tr>\n",
       "      <th>5</th>\n",
       "      <td>Jack Daniels No 7 Black</td>\n",
       "      <td>23797</td>\n",
       "    </tr>\n",
       "  </tbody>\n",
       "</table>\n",
       "</div>"
      ],
      "text/plain": [
       "                        Product  SalesQuantity\n",
       "1             Smirnoff 80 Proof          43423\n",
       "2        Capt Morgan Spiced Rum          35866\n",
       "3  Dr McGillicuddy's Mentholmnt          24188\n",
       "4                    Yukon Jack          24037\n",
       "5       Jack Daniels No 7 Black          23797"
      ]
     },
     "execution_count": 8,
     "metadata": {},
     "output_type": "execute_result"
    }
   ],
   "source": [
    "most_sold_product = sales.groupby('Description')['SalesQuantity'].sum().sort_values(ascending=False).head(5).rename_axis('Product').reset_index()\n",
    "most_sold_product.index = most_sold_product.index + 1 # sets first index to 1\n",
    "most_sold_product"
   ]
  },
  {
   "cell_type": "markdown",
   "id": "21f59e9b",
   "metadata": {},
   "source": [
    "**3. Top Selling Products:**"
   ]
  },
  {
   "cell_type": "code",
   "execution_count": 9,
   "id": "553a269e",
   "metadata": {},
   "outputs": [
    {
     "data": {
      "text/html": [
       "<div>\n",
       "<style scoped>\n",
       "    .dataframe tbody tr th:only-of-type {\n",
       "        vertical-align: middle;\n",
       "    }\n",
       "\n",
       "    .dataframe tbody tr th {\n",
       "        vertical-align: top;\n",
       "    }\n",
       "\n",
       "    .dataframe thead th {\n",
       "        text-align: right;\n",
       "    }\n",
       "</style>\n",
       "<table border=\"1\" class=\"dataframe\">\n",
       "  <thead>\n",
       "    <tr style=\"text-align: right;\">\n",
       "      <th></th>\n",
       "      <th>Product</th>\n",
       "      <th>SalesQuantity</th>\n",
       "    </tr>\n",
       "  </thead>\n",
       "  <tbody>\n",
       "    <tr>\n",
       "      <th>0</th>\n",
       "      <td>Smirnoff 80 Proof 50mL</td>\n",
       "      <td>28544</td>\n",
       "    </tr>\n",
       "    <tr>\n",
       "      <th>1</th>\n",
       "      <td>Yukon Jack 50mL</td>\n",
       "      <td>23121</td>\n",
       "    </tr>\n",
       "    <tr>\n",
       "      <th>2</th>\n",
       "      <td>Capt Morgan Spiced Rum 1.75L</td>\n",
       "      <td>20226</td>\n",
       "    </tr>\n",
       "    <tr>\n",
       "      <th>3</th>\n",
       "      <td>Smirnoff Raspberry Vodka 50mL</td>\n",
       "      <td>19200</td>\n",
       "    </tr>\n",
       "    <tr>\n",
       "      <th>4</th>\n",
       "      <td>Dr McGillicuddy's Mentholmnt 50mL</td>\n",
       "      <td>18411</td>\n",
       "    </tr>\n",
       "  </tbody>\n",
       "</table>\n",
       "</div>"
      ],
      "text/plain": [
       "                             Product  SalesQuantity\n",
       "0             Smirnoff 80 Proof 50mL          28544\n",
       "1                    Yukon Jack 50mL          23121\n",
       "2       Capt Morgan Spiced Rum 1.75L          20226\n",
       "3      Smirnoff Raspberry Vodka 50mL          19200\n",
       "4  Dr McGillicuddy's Mentholmnt 50mL          18411"
      ]
     },
     "execution_count": 9,
     "metadata": {},
     "output_type": "execute_result"
    }
   ],
   "source": [
    "final_sales_data.groupby('Product').agg(SalesQuantity=('SalesQuantity', 'sum')).sort_values(by='SalesQuantity', ascending=False).head(5).rename_axis('Product').reset_index()"
   ]
  },
  {
   "cell_type": "markdown",
   "id": "bfa84c74",
   "metadata": {},
   "source": [
    "**4. Top Profitable Brands:**"
   ]
  },
  {
   "cell_type": "code",
   "execution_count": 10,
   "id": "78bbcb90",
   "metadata": {},
   "outputs": [
    {
     "data": {
      "text/html": [
       "<div>\n",
       "<style scoped>\n",
       "    .dataframe tbody tr th:only-of-type {\n",
       "        vertical-align: middle;\n",
       "    }\n",
       "\n",
       "    .dataframe tbody tr th {\n",
       "        vertical-align: top;\n",
       "    }\n",
       "\n",
       "    .dataframe thead th {\n",
       "        text-align: right;\n",
       "    }\n",
       "</style>\n",
       "<table border=\"1\" class=\"dataframe\">\n",
       "  <thead>\n",
       "    <tr style=\"text-align: right;\">\n",
       "      <th></th>\n",
       "      <th>Product</th>\n",
       "      <th>Total_Profit</th>\n",
       "    </tr>\n",
       "  </thead>\n",
       "  <tbody>\n",
       "    <tr>\n",
       "      <th>1</th>\n",
       "      <td>Capt Morgan Spiced Rum</td>\n",
       "      <td>161057.50</td>\n",
       "    </tr>\n",
       "    <tr>\n",
       "      <th>2</th>\n",
       "      <td>Jack Daniels No 7 Black</td>\n",
       "      <td>159726.23</td>\n",
       "    </tr>\n",
       "    <tr>\n",
       "      <th>3</th>\n",
       "      <td>Absolut 80 Proof</td>\n",
       "      <td>126319.32</td>\n",
       "    </tr>\n",
       "    <tr>\n",
       "      <th>4</th>\n",
       "      <td>Ketel One Vodka</td>\n",
       "      <td>115521.28</td>\n",
       "    </tr>\n",
       "    <tr>\n",
       "      <th>5</th>\n",
       "      <td>Grey Goose Vodka</td>\n",
       "      <td>114685.18</td>\n",
       "    </tr>\n",
       "  </tbody>\n",
       "</table>\n",
       "</div>"
      ],
      "text/plain": [
       "                   Product  Total_Profit\n",
       "1   Capt Morgan Spiced Rum     161057.50\n",
       "2  Jack Daniels No 7 Black     159726.23\n",
       "3         Absolut 80 Proof     126319.32\n",
       "4          Ketel One Vodka     115521.28\n",
       "5         Grey Goose Vodka     114685.18"
      ]
     },
     "execution_count": 10,
     "metadata": {},
     "output_type": "execute_result"
    }
   ],
   "source": [
    "merged_sales_purchase = pd.merge(sales, purchase_prices, on='Brand', how='left') # merge\n",
    "merged_sales_purchase['Profit'] = merged_sales_purchase['SalesQuantity'] * (merged_sales_purchase['SalesPrice'] - merged_sales_purchase['PurchasePrice']) # add col\n",
    "most_profitable_product = merged_sales_purchase.groupby(['Description_x']).agg(Total_Profit=('Profit', 'sum')).sort_values(by='Total_Profit', ascending=False).head(5).rename_axis('Product').reset_index()\n",
    "most_profitable_product.index = most_profitable_product.index + 1 # sets first index to 1\n",
    "most_profitable_product"
   ]
  },
  {
   "cell_type": "markdown",
   "id": "60a19ece",
   "metadata": {},
   "source": [
    "**5. Top Profitable Products:**"
   ]
  },
  {
   "cell_type": "code",
   "execution_count": 11,
   "id": "960df811",
   "metadata": {},
   "outputs": [
    {
     "data": {
      "text/html": [
       "<div>\n",
       "<style scoped>\n",
       "    .dataframe tbody tr th:only-of-type {\n",
       "        vertical-align: middle;\n",
       "    }\n",
       "\n",
       "    .dataframe tbody tr th {\n",
       "        vertical-align: top;\n",
       "    }\n",
       "\n",
       "    .dataframe thead th {\n",
       "        text-align: right;\n",
       "    }\n",
       "</style>\n",
       "<table border=\"1\" class=\"dataframe\">\n",
       "  <thead>\n",
       "    <tr style=\"text-align: right;\">\n",
       "      <th></th>\n",
       "      <th>Product</th>\n",
       "      <th>TotalProfit</th>\n",
       "    </tr>\n",
       "  </thead>\n",
       "  <tbody>\n",
       "    <tr>\n",
       "      <th>0</th>\n",
       "      <td>Capt Morgan Spiced Rum 1.75L</td>\n",
       "      <td>117756.32</td>\n",
       "    </tr>\n",
       "    <tr>\n",
       "      <th>1</th>\n",
       "      <td>Ketel One Vodka 1.75L</td>\n",
       "      <td>97640.30</td>\n",
       "    </tr>\n",
       "    <tr>\n",
       "      <th>2</th>\n",
       "      <td>Jack Daniels No 7 Black 1.75L</td>\n",
       "      <td>93098.16</td>\n",
       "    </tr>\n",
       "    <tr>\n",
       "      <th>3</th>\n",
       "      <td>Absolut 80 Proof 1.75L</td>\n",
       "      <td>84047.75</td>\n",
       "    </tr>\n",
       "    <tr>\n",
       "      <th>4</th>\n",
       "      <td>Tito's Handmade Vodka 1.75L</td>\n",
       "      <td>61745.40</td>\n",
       "    </tr>\n",
       "  </tbody>\n",
       "</table>\n",
       "</div>"
      ],
      "text/plain": [
       "                         Product  TotalProfit\n",
       "0   Capt Morgan Spiced Rum 1.75L    117756.32\n",
       "1          Ketel One Vodka 1.75L     97640.30\n",
       "2  Jack Daniels No 7 Black 1.75L     93098.16\n",
       "3         Absolut 80 Proof 1.75L     84047.75\n",
       "4    Tito's Handmade Vodka 1.75L     61745.40"
      ]
     },
     "execution_count": 11,
     "metadata": {},
     "output_type": "execute_result"
    }
   ],
   "source": [
    "final_sales_data.groupby('Product').agg(TotalProfit=('Income', 'sum')).sort_values(by='TotalProfit', ascending=False).head(5).rename_axis('Product').reset_index()"
   ]
  },
  {
   "cell_type": "markdown",
   "id": "3e601be7",
   "metadata": {},
   "source": [
    "**6. Highest Asset Value:**"
   ]
  },
  {
   "cell_type": "code",
   "execution_count": 12,
   "id": "9313140d",
   "metadata": {},
   "outputs": [
    {
     "data": {
      "text/html": [
       "<div>\n",
       "<style scoped>\n",
       "    .dataframe tbody tr th:only-of-type {\n",
       "        vertical-align: middle;\n",
       "    }\n",
       "\n",
       "    .dataframe tbody tr th {\n",
       "        vertical-align: top;\n",
       "    }\n",
       "\n",
       "    .dataframe thead th {\n",
       "        text-align: right;\n",
       "    }\n",
       "</style>\n",
       "<table border=\"1\" class=\"dataframe\">\n",
       "  <thead>\n",
       "    <tr style=\"text-align: right;\">\n",
       "      <th></th>\n",
       "      <th>Product</th>\n",
       "      <th>PurchasePrice</th>\n",
       "    </tr>\n",
       "  </thead>\n",
       "  <tbody>\n",
       "    <tr>\n",
       "      <th>0</th>\n",
       "      <td>Jack Daniels No 7 Black 1.75L</td>\n",
       "      <td>158591.99</td>\n",
       "    </tr>\n",
       "    <tr>\n",
       "      <th>1</th>\n",
       "      <td>Tito's Handmade Vodka 1.75L</td>\n",
       "      <td>137702.22</td>\n",
       "    </tr>\n",
       "    <tr>\n",
       "      <th>2</th>\n",
       "      <td>Ketel One Vodka 1.75L</td>\n",
       "      <td>127903.27</td>\n",
       "    </tr>\n",
       "    <tr>\n",
       "      <th>3</th>\n",
       "      <td>Crown Royal 1.75L</td>\n",
       "      <td>125396.96</td>\n",
       "    </tr>\n",
       "    <tr>\n",
       "      <th>4</th>\n",
       "      <td>Absolut 80 Proof 1.75L</td>\n",
       "      <td>124104.96</td>\n",
       "    </tr>\n",
       "  </tbody>\n",
       "</table>\n",
       "</div>"
      ],
      "text/plain": [
       "                         Product  PurchasePrice\n",
       "0  Jack Daniels No 7 Black 1.75L      158591.99\n",
       "1    Tito's Handmade Vodka 1.75L      137702.22\n",
       "2          Ketel One Vodka 1.75L      127903.27\n",
       "3              Crown Royal 1.75L      125396.96\n",
       "4         Absolut 80 Proof 1.75L      124104.96"
      ]
     },
     "execution_count": 12,
     "metadata": {},
     "output_type": "execute_result"
    }
   ],
   "source": [
    "purchases.groupby(['Product'])['PurchasePrice'].sum().sort_values(ascending=False).head(5).reset_index(name='PurchasePrice')"
   ]
  },
  {
   "cell_type": "markdown",
   "id": "a218fb14",
   "metadata": {},
   "source": [
    "**7. Most Expensive Alcohol Products:**"
   ]
  },
  {
   "cell_type": "code",
   "execution_count": 13,
   "id": "654cee0a",
   "metadata": {},
   "outputs": [
    {
     "data": {
      "text/html": [
       "<div>\n",
       "<style scoped>\n",
       "    .dataframe tbody tr th:only-of-type {\n",
       "        vertical-align: middle;\n",
       "    }\n",
       "\n",
       "    .dataframe tbody tr th {\n",
       "        vertical-align: top;\n",
       "    }\n",
       "\n",
       "    .dataframe thead th {\n",
       "        text-align: right;\n",
       "    }\n",
       "</style>\n",
       "<table border=\"1\" class=\"dataframe\">\n",
       "  <thead>\n",
       "    <tr style=\"text-align: right;\">\n",
       "      <th></th>\n",
       "      <th>index</th>\n",
       "      <th>Description</th>\n",
       "      <th>PurchasePrice</th>\n",
       "    </tr>\n",
       "  </thead>\n",
       "  <tbody>\n",
       "    <tr>\n",
       "      <th>0</th>\n",
       "      <td>113043</td>\n",
       "      <td>Patron En Lalique Tequila</td>\n",
       "      <td>5681.81</td>\n",
       "    </tr>\n",
       "    <tr>\n",
       "      <th>1</th>\n",
       "      <td>185547</td>\n",
       "      <td>Glenmorangie Pride</td>\n",
       "      <td>4264.70</td>\n",
       "    </tr>\n",
       "    <tr>\n",
       "      <th>2</th>\n",
       "      <td>966295</td>\n",
       "      <td>Hennessy Richard Cognac</td>\n",
       "      <td>3352.93</td>\n",
       "    </tr>\n",
       "    <tr>\n",
       "      <th>3</th>\n",
       "      <td>1452024</td>\n",
       "      <td>Glenfiddich 1978 Rare Collct</td>\n",
       "      <td>2713.17</td>\n",
       "    </tr>\n",
       "    <tr>\n",
       "      <th>4</th>\n",
       "      <td>749766</td>\n",
       "      <td>Port Ellen 32 Yr Single Malt</td>\n",
       "      <td>2661.86</td>\n",
       "    </tr>\n",
       "  </tbody>\n",
       "</table>\n",
       "</div>"
      ],
      "text/plain": [
       "     index                   Description  PurchasePrice\n",
       "0   113043     Patron En Lalique Tequila        5681.81\n",
       "1   185547            Glenmorangie Pride        4264.70\n",
       "2   966295       Hennessy Richard Cognac        3352.93\n",
       "3  1452024  Glenfiddich 1978 Rare Collct        2713.17\n",
       "4   749766  Port Ellen 32 Yr Single Malt        2661.86"
      ]
     },
     "execution_count": 13,
     "metadata": {},
     "output_type": "execute_result"
    }
   ],
   "source": [
    "purchases.drop_duplicates(subset=['Description', 'PurchasePrice']).nlargest(5, 'PurchasePrice')[['Description', 'PurchasePrice']].reset_index()"
   ]
  },
  {
   "cell_type": "markdown",
   "id": "a99ed056",
   "metadata": {},
   "source": [
    "**8. Most Spent on a Particular Vendor:**"
   ]
  },
  {
   "cell_type": "code",
   "execution_count": 14,
   "id": "4d893eeb",
   "metadata": {},
   "outputs": [
    {
     "data": {
      "text/html": [
       "<div>\n",
       "<style scoped>\n",
       "    .dataframe tbody tr th:only-of-type {\n",
       "        vertical-align: middle;\n",
       "    }\n",
       "\n",
       "    .dataframe tbody tr th {\n",
       "        vertical-align: top;\n",
       "    }\n",
       "\n",
       "    .dataframe thead th {\n",
       "        text-align: right;\n",
       "    }\n",
       "</style>\n",
       "<table border=\"1\" class=\"dataframe\">\n",
       "  <thead>\n",
       "    <tr style=\"text-align: right;\">\n",
       "      <th></th>\n",
       "      <th>VendorName</th>\n",
       "      <th>Dollars</th>\n",
       "    </tr>\n",
       "  </thead>\n",
       "  <tbody>\n",
       "    <tr>\n",
       "      <th>0</th>\n",
       "      <td>DIAGEO NORTH AMERICA INC</td>\n",
       "      <td>46452333.24</td>\n",
       "    </tr>\n",
       "    <tr>\n",
       "      <th>1</th>\n",
       "      <td>MARTIGNETTI COMPANIES</td>\n",
       "      <td>24924389.85</td>\n",
       "    </tr>\n",
       "    <tr>\n",
       "      <th>2</th>\n",
       "      <td>JIM BEAM BRANDS COMPANY</td>\n",
       "      <td>22029427.43</td>\n",
       "    </tr>\n",
       "    <tr>\n",
       "      <th>3</th>\n",
       "      <td>PERNOD RICARD USA</td>\n",
       "      <td>21797281.01</td>\n",
       "    </tr>\n",
       "    <tr>\n",
       "      <th>4</th>\n",
       "      <td>BACARDI USA INC</td>\n",
       "      <td>16368548.71</td>\n",
       "    </tr>\n",
       "  </tbody>\n",
       "</table>\n",
       "</div>"
      ],
      "text/plain": [
       "                    VendorName      Dollars\n",
       "0  DIAGEO NORTH AMERICA INC     46452333.24\n",
       "1        MARTIGNETTI COMPANIES  24924389.85\n",
       "2  JIM BEAM BRANDS COMPANY      22029427.43\n",
       "3  PERNOD RICARD USA            21797281.01\n",
       "4  BACARDI USA INC              16368548.71"
      ]
     },
     "execution_count": 14,
     "metadata": {},
     "output_type": "execute_result"
    }
   ],
   "source": [
    "purchases.groupby('VendorName').agg({'Dollars': 'sum'}).sort_values(by='Dollars', ascending=0).reset_index().head(5)"
   ]
  },
  {
   "cell_type": "markdown",
   "id": "36f24624",
   "metadata": {},
   "source": [
    "**9. Top Performing Vendors in Terms of Order Fulfillment Time**"
   ]
  },
  {
   "cell_type": "code",
   "execution_count": 15,
   "id": "a89b73c3",
   "metadata": {},
   "outputs": [
    {
     "data": {
      "text/html": [
       "<div>\n",
       "<style scoped>\n",
       "    .dataframe tbody tr th:only-of-type {\n",
       "        vertical-align: middle;\n",
       "    }\n",
       "\n",
       "    .dataframe tbody tr th {\n",
       "        vertical-align: top;\n",
       "    }\n",
       "\n",
       "    .dataframe thead th {\n",
       "        text-align: right;\n",
       "    }\n",
       "</style>\n",
       "<table border=\"1\" class=\"dataframe\">\n",
       "  <thead>\n",
       "    <tr style=\"text-align: right;\">\n",
       "      <th></th>\n",
       "      <th>VendorName</th>\n",
       "      <th>DaysBetween</th>\n",
       "    </tr>\n",
       "  </thead>\n",
       "  <tbody>\n",
       "    <tr>\n",
       "      <th>0</th>\n",
       "      <td>TRUETT HURST</td>\n",
       "      <td>5.000000</td>\n",
       "    </tr>\n",
       "    <tr>\n",
       "      <th>1</th>\n",
       "      <td>LOYAL DOG WINERY</td>\n",
       "      <td>5.117647</td>\n",
       "    </tr>\n",
       "    <tr>\n",
       "      <th>2</th>\n",
       "      <td>VINEYARD BRANDS LLC</td>\n",
       "      <td>6.076923</td>\n",
       "    </tr>\n",
       "    <tr>\n",
       "      <th>3</th>\n",
       "      <td>MARTIGNETTI COMPANIES</td>\n",
       "      <td>6.697279</td>\n",
       "    </tr>\n",
       "    <tr>\n",
       "      <th>4</th>\n",
       "      <td>ALISA CARR BEVERAGES</td>\n",
       "      <td>6.809524</td>\n",
       "    </tr>\n",
       "  </tbody>\n",
       "</table>\n",
       "</div>"
      ],
      "text/plain": [
       "                        VendorName  DaysBetween\n",
       "0      TRUETT HURST                    5.000000\n",
       "1      LOYAL DOG WINERY                5.117647\n",
       "2      VINEYARD BRANDS LLC             6.076923\n",
       "3           MARTIGNETTI COMPANIES      6.697279\n",
       "4  ALISA CARR BEVERAGES                6.809524"
      ]
     },
     "execution_count": 15,
     "metadata": {},
     "output_type": "execute_result"
    }
   ],
   "source": [
    "purchases['DaysBetween'] = (purchases['ReceivingDate'] - purchases['PODate']).dt.days\n",
    "purchases.groupby('VendorName').agg({'DaysBetween': 'mean'}).sort_values(by='DaysBetween', ascending=1).reset_index().head()"
   ]
  },
  {
   "cell_type": "markdown",
   "id": "36a72a4f-b974-49ab-8460-f6163d5fa2d5",
   "metadata": {},
   "source": [
    "# iii. Safety Stock and Reorder Point Analysis\n",
    "The code/table below computes for safety stock and reorder point per individual brand and size. Knowing safety stock is crucial to guard against uncertainties in demand and supply, reducing the risk of stockouts. Reorder point is essential for determining when to replenish inventory, ensuring continuous availability and optimal stock levels for efficient operations.\n",
    "\n",
    "There are different ways to calculate Safety Stock depending on what the entity's available information/data. The most commonly used formula is the managerial accounting variation = (Max Daily Sale * Max Lead Time) − (Avg Daily Sale * Avg Lead Time), however to account for variability in demand/sale during the lead time, I used the Standard Deviation Safety Stock formula = z * sqrt(Avg Lead Time) * σ(Sales)\n"
   ]
  },
  {
   "cell_type": "markdown",
   "id": "cec14fb2",
   "metadata": {},
   "source": [
    "Another relevant information to extract from this analysis is determining optimal order quantities, calculating reorder points, assessing lead times, establishing safety stock based on statistical analysis, and evaluating inventory turnover ratios.\n",
    "Safety stock is the extra inventory a company keeps beyond average demand. It acts as a buffer to prevent stockouts during unexpected demand or supply chain fluctuations, ensuring smooth operations and customer satisfaction.\n",
    "There are various methods for calculating Safety Stock, depending on available information. The widely used managerial accounting formula is (Max Daily Sale * Max Lead Time) − (Avg Daily Sale * Avg Lead Time). However, this formula does not account for outliers, which might lead to inaccurate analysis. To address demand variability during lead time, the Standard Deviation Safety Stock formula is applied: z * sqrt(Avg Lead Time) * σ(Sales), where z represents a confidence level and σ(Sales) is the standard deviation of sales.\n",
    "\n",
    "But before we delve into the computation part, I need to perform data wrangling/cleaning once again. I grouped the sales data by 'Product' column and aggregated with following metrics: total sales, standards deviation, and max daily sales. For lead time, I calculated the difference between ReceivingDate and PODate for the lead time period, then aggregated with max and mean."
   ]
  },
  {
   "cell_type": "code",
   "execution_count": 16,
   "id": "94d40f0d",
   "metadata": {},
   "outputs": [],
   "source": [
    "# sales_data\n",
    "sales_data = sales.groupby(['Product']).agg(\n",
    "    Total_Sales=('SalesQuantity', 'sum'),\n",
    "    Standard_Deviation_Sales=('SalesQuantity', 'std'),\n",
    "    Max_Daily_Sales=('SalesQuantity', 'max')\n",
    ").reset_index()\n",
    "sales_data['Avg_Daily_Sales'] = sales_data['Total_Sales'] / (sales['SalesDate'].max() - sales['SalesDate'].min()).days\n",
    "\n",
    "# lead_times\n",
    "purchases['Lead_Time'] = (purchases['ReceivingDate'] - purchases['PODate']).dt.days\n",
    "lead_times = purchases.groupby(['Product']).agg(\n",
    "    Max_Lead_Time=('Lead_Time', 'max'),\n",
    "    Avg_Lead_Time=('Lead_Time', 'mean'),\n",
    ").reset_index()\n",
    "\n",
    "# merging sales_data and lead_times\n",
    "invt_level_analysis = pd.merge(sales_data, lead_times, on=['Product'], how='left')"
   ]
  },
  {
   "cell_type": "markdown",
   "id": "31e0609f",
   "metadata": {},
   "source": [
    "Now that I have merged dataset of sales_data and lead_times, I am now able to create a new column called Safety_Stock and Reorder_Point with the following formula below:"
   ]
  },
  {
   "cell_type": "code",
   "execution_count": 17,
   "id": "57726a8f",
   "metadata": {},
   "outputs": [],
   "source": [
    "# safety stock and reorder point computation\n",
    "invt_level_analysis['Safety_Stock'] = 1.96 * np.sqrt(invt_level_analysis['Avg_Lead_Time'] * invt_level_analysis['Standard_Deviation_Sales']) # note: z-value with 95% confidence level is 1.96\n",
    "invt_level_analysis['Reorder_Point'] = (invt_level_analysis['Avg_Daily_Sales'] * invt_level_analysis['Avg_Lead_Time'] + invt_level_analysis['Safety_Stock'])"
   ]
  },
  {
   "cell_type": "markdown",
   "id": "769669ce",
   "metadata": {},
   "source": [
    "Upon doing so, I discovered that there are 1231 products that have null values in their Safety_Stock and Reorder_Point columns. This is because there were no purchases of those particular products during the covered period of this dataset, hence no data for their lead time, which is crucial information in determining their safety stock."
   ]
  },
  {
   "cell_type": "code",
   "execution_count": 18,
   "id": "2a0c485b",
   "metadata": {},
   "outputs": [
    {
     "data": {
      "text/plain": [
       "1231"
      ]
     },
     "execution_count": 18,
     "metadata": {},
     "output_type": "execute_result"
    }
   ],
   "source": [
    "(invt_level_analysis['Safety_Stock'].isna() | invt_level_analysis['Reorder_Point'].isna()).sum()"
   ]
  },
  {
   "cell_type": "markdown",
   "id": "f52bacfd",
   "metadata": {},
   "source": [
    "I decided to remove the the NaN values as it is unnecessary to have those rows."
   ]
  },
  {
   "cell_type": "code",
   "execution_count": 26,
   "id": "5d6645c1",
   "metadata": {},
   "outputs": [],
   "source": [
    "# remove NaN in Standard_Deviation_Sales\n",
    "invt_level_analysis['Standard_Deviation_Sales'] = invt_level_analysis['Standard_Deviation_Sales'].fillna(0)\n",
    "invt_level_analysis = invt_level_analysis.dropna(subset=['Reorder_Point'])\n",
    "invt_level_analysis = invt_level_analysis.dropna(subset=['Safety_Stock'])\n",
    "invt_level_analysis['Reorder_Point'] = invt_level_analysis['Reorder_Point'].astype(int) # to convert Reorder_Point values to integer\n",
    "invt_level_analysis['Safety_Stock'] = invt_level_analysis['Safety_Stock'].astype(int)"
   ]
  },
  {
   "cell_type": "markdown",
   "id": "b6a55fe3",
   "metadata": {},
   "source": [
    "# iv. Analysis and Recommendation\n",
    "The output table shows safety stock and reorder point per product. Let's use '10 Span Cab Svgn CC 750mL' as our sample for analysis:\n",
    "1. The reorder point for '10 Span Chard CC 750mL' is 22 (units). This signifies that the store should initiate a reorder when the stock quantity approaches 22 units. This proactive measure helps prevent stockouts, ensuring a consistent supply of the product to meet customer demand.\n",
    "2. The safety stock is set at 11 units for '10 Span Chard CC 750mL'. This represents a buffer stock strategically maintained to mitigate the impact of variability in sales quantities. The safety stock acts as a safeguard, providing a cushion against unexpected increases in demand, delays in replenishment, or other unforeseen factors."
   ]
  },
  {
   "cell_type": "code",
   "execution_count": 27,
   "id": "47cc848b",
   "metadata": {},
   "outputs": [
    {
     "data": {
      "text/html": [
       "<div>\n",
       "<style scoped>\n",
       "    .dataframe tbody tr th:only-of-type {\n",
       "        vertical-align: middle;\n",
       "    }\n",
       "\n",
       "    .dataframe tbody tr th {\n",
       "        vertical-align: top;\n",
       "    }\n",
       "\n",
       "    .dataframe thead th {\n",
       "        text-align: right;\n",
       "    }\n",
       "</style>\n",
       "<table border=\"1\" class=\"dataframe\">\n",
       "  <thead>\n",
       "    <tr style=\"text-align: right;\">\n",
       "      <th></th>\n",
       "      <th>Product</th>\n",
       "      <th>Safety_Stock</th>\n",
       "      <th>Reorder_Point</th>\n",
       "    </tr>\n",
       "  </thead>\n",
       "  <tbody>\n",
       "    <tr>\n",
       "      <th>0</th>\n",
       "      <td>(RI) 1 750mL</td>\n",
       "      <td>2</td>\n",
       "      <td>7</td>\n",
       "    </tr>\n",
       "    <tr>\n",
       "      <th>1</th>\n",
       "      <td>10 Span Cab Svgn CC 750mL</td>\n",
       "      <td>0</td>\n",
       "      <td>3</td>\n",
       "    </tr>\n",
       "    <tr>\n",
       "      <th>2</th>\n",
       "      <td>10 Span Chard CC 750mL</td>\n",
       "      <td>11</td>\n",
       "      <td>22</td>\n",
       "    </tr>\n",
       "    <tr>\n",
       "      <th>3</th>\n",
       "      <td>10 Span Pnt Nr CC 750mL</td>\n",
       "      <td>12</td>\n",
       "      <td>17</td>\n",
       "    </tr>\n",
       "    <tr>\n",
       "      <th>4</th>\n",
       "      <td>12 Days of Pearls Gift Set 50mL 12 Pk</td>\n",
       "      <td>4</td>\n",
       "      <td>8</td>\n",
       "    </tr>\n",
       "    <tr>\n",
       "      <th>...</th>\n",
       "      <td>...</td>\n",
       "      <td>...</td>\n",
       "      <td>...</td>\n",
       "    </tr>\n",
       "    <tr>\n",
       "      <th>7643</th>\n",
       "      <td>Zorvino Vyds Peachez 750mL</td>\n",
       "      <td>3</td>\n",
       "      <td>12</td>\n",
       "    </tr>\n",
       "    <tr>\n",
       "      <th>7644</th>\n",
       "      <td>Zorvino Vyds Pearz 750mL</td>\n",
       "      <td>3</td>\n",
       "      <td>18</td>\n",
       "    </tr>\n",
       "    <tr>\n",
       "      <th>7645</th>\n",
       "      <td>Zorvino Vyds Sangiovese 750mL</td>\n",
       "      <td>5</td>\n",
       "      <td>9</td>\n",
       "    </tr>\n",
       "    <tr>\n",
       "      <th>7646</th>\n",
       "      <td>Zum Rsl 750mL</td>\n",
       "      <td>5</td>\n",
       "      <td>18</td>\n",
       "    </tr>\n",
       "    <tr>\n",
       "      <th>7647</th>\n",
       "      <td>von Buhl Jazz Rsl 750mL</td>\n",
       "      <td>7</td>\n",
       "      <td>8</td>\n",
       "    </tr>\n",
       "  </tbody>\n",
       "</table>\n",
       "<p>6417 rows × 3 columns</p>\n",
       "</div>"
      ],
      "text/plain": [
       "                                    Product  Safety_Stock  Reorder_Point\n",
       "0                              (RI) 1 750mL             2              7\n",
       "1                 10 Span Cab Svgn CC 750mL             0              3\n",
       "2                    10 Span Chard CC 750mL            11             22\n",
       "3                   10 Span Pnt Nr CC 750mL            12             17\n",
       "4     12 Days of Pearls Gift Set 50mL 12 Pk             4              8\n",
       "...                                     ...           ...            ...\n",
       "7643             Zorvino Vyds Peachez 750mL             3             12\n",
       "7644               Zorvino Vyds Pearz 750mL             3             18\n",
       "7645          Zorvino Vyds Sangiovese 750mL             5              9\n",
       "7646                          Zum Rsl 750mL             5             18\n",
       "7647                von Buhl Jazz Rsl 750mL             7              8\n",
       "\n",
       "[6417 rows x 3 columns]"
      ]
     },
     "execution_count": 27,
     "metadata": {},
     "output_type": "execute_result"
    }
   ],
   "source": [
    "invt_level_analysis.loc[:, ['Product', 'Safety_Stock', 'Reorder_Point']]"
   ]
  },
  {
   "cell_type": "markdown",
   "id": "81f982b7",
   "metadata": {},
   "source": [
    "The table below displays the products with reorder points exceeding the ending inventory level. These items require restocking beyond their reorder points, as they are at a critical level"
   ]
  },
  {
   "cell_type": "code",
   "execution_count": 21,
   "id": "e74dca8a",
   "metadata": {},
   "outputs": [
    {
     "data": {
      "text/html": [
       "<div>\n",
       "<style scoped>\n",
       "    .dataframe tbody tr th:only-of-type {\n",
       "        vertical-align: middle;\n",
       "    }\n",
       "\n",
       "    .dataframe tbody tr th {\n",
       "        vertical-align: top;\n",
       "    }\n",
       "\n",
       "    .dataframe thead th {\n",
       "        text-align: right;\n",
       "    }\n",
       "</style>\n",
       "<table border=\"1\" class=\"dataframe\">\n",
       "  <thead>\n",
       "    <tr style=\"text-align: right;\">\n",
       "      <th></th>\n",
       "      <th>Product</th>\n",
       "      <th>Safety_Stock</th>\n",
       "      <th>Reorder_Point</th>\n",
       "      <th>onHand</th>\n",
       "    </tr>\n",
       "  </thead>\n",
       "  <tbody>\n",
       "    <tr>\n",
       "      <th>1</th>\n",
       "      <td>(RI) 1 750mL</td>\n",
       "      <td>2.841300</td>\n",
       "      <td>7</td>\n",
       "      <td>6.0</td>\n",
       "    </tr>\n",
       "    <tr>\n",
       "      <th>2</th>\n",
       "      <td>(RI) 1 750mL</td>\n",
       "      <td>2.841300</td>\n",
       "      <td>7</td>\n",
       "      <td>5.0</td>\n",
       "    </tr>\n",
       "    <tr>\n",
       "      <th>3</th>\n",
       "      <td>(RI) 1 750mL</td>\n",
       "      <td>2.841300</td>\n",
       "      <td>7</td>\n",
       "      <td>6.0</td>\n",
       "    </tr>\n",
       "    <tr>\n",
       "      <th>4</th>\n",
       "      <td>(RI) 1 750mL</td>\n",
       "      <td>2.841300</td>\n",
       "      <td>7</td>\n",
       "      <td>3.0</td>\n",
       "    </tr>\n",
       "    <tr>\n",
       "      <th>5</th>\n",
       "      <td>(RI) 1 750mL</td>\n",
       "      <td>2.841300</td>\n",
       "      <td>7</td>\n",
       "      <td>3.0</td>\n",
       "    </tr>\n",
       "    <tr>\n",
       "      <th>...</th>\n",
       "      <td>...</td>\n",
       "      <td>...</td>\n",
       "      <td>...</td>\n",
       "      <td>...</td>\n",
       "    </tr>\n",
       "    <tr>\n",
       "      <th>190950</th>\n",
       "      <td>Zum Rsl 750mL</td>\n",
       "      <td>5.643232</td>\n",
       "      <td>18</td>\n",
       "      <td>16.0</td>\n",
       "    </tr>\n",
       "    <tr>\n",
       "      <th>190951</th>\n",
       "      <td>Zum Rsl 750mL</td>\n",
       "      <td>5.643232</td>\n",
       "      <td>18</td>\n",
       "      <td>11.0</td>\n",
       "    </tr>\n",
       "    <tr>\n",
       "      <th>190952</th>\n",
       "      <td>Zum Rsl 750mL</td>\n",
       "      <td>5.643232</td>\n",
       "      <td>18</td>\n",
       "      <td>16.0</td>\n",
       "    </tr>\n",
       "    <tr>\n",
       "      <th>190953</th>\n",
       "      <td>Zum Rsl 750mL</td>\n",
       "      <td>5.643232</td>\n",
       "      <td>18</td>\n",
       "      <td>5.0</td>\n",
       "    </tr>\n",
       "    <tr>\n",
       "      <th>190955</th>\n",
       "      <td>von Buhl Jazz Rsl 750mL</td>\n",
       "      <td>7.414614</td>\n",
       "      <td>8</td>\n",
       "      <td>1.0</td>\n",
       "    </tr>\n",
       "  </tbody>\n",
       "</table>\n",
       "<p>167302 rows × 4 columns</p>\n",
       "</div>"
      ],
      "text/plain": [
       "                        Product  Safety_Stock  Reorder_Point  onHand\n",
       "1                  (RI) 1 750mL      2.841300              7     6.0\n",
       "2                  (RI) 1 750mL      2.841300              7     5.0\n",
       "3                  (RI) 1 750mL      2.841300              7     6.0\n",
       "4                  (RI) 1 750mL      2.841300              7     3.0\n",
       "5                  (RI) 1 750mL      2.841300              7     3.0\n",
       "...                         ...           ...            ...     ...\n",
       "190950            Zum Rsl 750mL      5.643232             18    16.0\n",
       "190951            Zum Rsl 750mL      5.643232             18    11.0\n",
       "190952            Zum Rsl 750mL      5.643232             18    16.0\n",
       "190953            Zum Rsl 750mL      5.643232             18     5.0\n",
       "190955  von Buhl Jazz Rsl 750mL      7.414614              8     1.0\n",
       "\n",
       "[167302 rows x 4 columns]"
      ]
     },
     "execution_count": 21,
     "metadata": {},
     "output_type": "execute_result"
    }
   ],
   "source": [
    "invt_level_summary = invt_level_analysis.loc[:, ['Product', 'Safety_Stock', 'Reorder_Point']]\n",
    "end_inv_level = end_inv.loc[:, ['Product', 'onHand']]\n",
    "on_hand_vs_reorder_point = pd.merge(invt_level_summary, end_inv_level, on=['Product'], how='left')\n",
    "on_hand_vs_reorder_point[on_hand_vs_reorder_point['onHand'] < on_hand_vs_reorder_point['Reorder_Point']]"
   ]
  },
  {
   "cell_type": "markdown",
   "id": "de52a810",
   "metadata": {},
   "source": [
    "By looking at the ending balances, 87% of the total inventory do not follow the recommended minimum stock. This indicates that the company's inventory level is far from optimal."
   ]
  },
  {
   "cell_type": "code",
   "execution_count": 22,
   "id": "83adf88e",
   "metadata": {},
   "outputs": [
    {
     "data": {
      "text/plain": [
       "0.8761239441340197"
      ]
     },
     "execution_count": 22,
     "metadata": {},
     "output_type": "execute_result"
    }
   ],
   "source": [
    "(on_hand_vs_reorder_point['Reorder_Point'] > on_hand_vs_reorder_point['onHand']).sum() / on_hand_vs_reorder_point.shape[0]"
   ]
  },
  {
   "cell_type": "markdown",
   "id": "cb36e63f-7f05-45b5-9f65-203fd7b93ce9",
   "metadata": {},
   "source": [
    "# v. Data Visualization\n",
    "Another way to perform analysis is through visualization of data.\n",
    "\n",
    "The diagram below shows that the sales quantities exhibit a cyclical pattern, suggesting potential trend during weekend as it is common for people to consume alcohol on fridays & weekends. The spike in alcohol/liquor purchases at the end of January may be attributed to holiday celebrations and gatherings. The drop in sales during February could be influenced by reduced social events, financial considerations, health-related resolutions, or other factors contributing to a decline in demand. This also implies the need to consider staffing levels at your shop over the weekends, given that the data indicates a recurring peak in sales during this time."
   ]
  },
  {
   "cell_type": "code",
   "execution_count": 23,
   "id": "f314ade3-4219-4f76-ae2c-29cc882f1e00",
   "metadata": {},
   "outputs": [
    {
     "data": {
      "text/plain": [
       "<Axes: title={'center': 'Daily Quantity Sale for the month of January and February 2016'}, xlabel='SalesDate'>"
      ]
     },
     "execution_count": 23,
     "metadata": {},
     "output_type": "execute_result"
    },
    {
     "data": {
      "image/png": "[encoded data removed]",
      "text/plain": [
       "<Figure size 1000x600 with 1 Axes>"
      ]
     },
     "metadata": {},
     "output_type": "display_data"
    }
   ],
   "source": [
    "daily_quantity_sale = sales.groupby('SalesDate').agg({'SalesQuantity': 'sum'})\n",
    "daily_quantity_sale.plot(figsize=(10, 6), title='Daily Quantity Sale for the month of January and February 2016')"
   ]
  },
  {
   "cell_type": "code",
   "execution_count": 24,
   "id": "083f19e3-a766-4bc2-9b9f-2fca477f7515",
   "metadata": {},
   "outputs": [
    {
     "data": {
      "image/png": "[encoded data removed]",
      "text/plain": [
       "<Figure size 1000x600 with 1 Axes>"
      ]
     },
     "metadata": {},
     "output_type": "display_data"
    }
   ],
   "source": [
    "# Creating the histogram for lead time distribution.\n",
    "plt.figure(figsize=(10, 6))\n",
    "sns.histplot(data=purchases, x='Lead_Time', bins=50, color='red')\n",
    "plt.title('Lead Time Distribution')\n",
    "plt.xlabel('Days')\n",
    "plt.ylabel('Number of Purchases')\n",
    "plt.show()"
   ]
  },
  {
   "cell_type": "code",
   "execution_count": 25,
   "id": "23ef517e-9065-457d-abe8-4ade1d59137c",
   "metadata": {},
   "outputs": [
    {
     "data": {
      "image/png": "[encoded data removed]",
      "text/plain": [
       "<Figure size 1000x600 with 1 Axes>"
      ]
     },
     "metadata": {},
     "output_type": "display_data"
    }
   ],
   "source": [
    "plt.figure(figsize=(10, 6))\n",
    "plt.barh(most_profitable_product['Product'], most_profitable_product['Total_Profit'], color='skyblue')\n",
    "plt.xlabel('Total Profit')\n",
    "plt.title('Top 5 Most Profitable Products')\n",
    "plt.gca().invert_yaxis()  # Invert y-axis to display the highest profit at the top\n",
    "plt.show()"
   ]
  },
  {
   "cell_type": "markdown",
   "id": "f21881b7",
   "metadata": {},
   "source": [
    "# vi. Conclusion\n",
    "\n",
    "Overall, the company's inventory management level is suboptimal, with a significant amount of inventory falling below its recommended stock levels. Best practices dictate that stock levels should consistently remain above the reorder point to mitigate the risk of stockout costs. The amount of purchase per order per product is currently uncomputable due to the absence of crucial variables required to measure the economic order quantity, namely holding cost and order cost. In the meantime, as the company lacks this information, it is advisable to avoid letting inventory levels fall below the reorder point.\n",
    "\n",
    "Top Products:<br>\n",
    "* Top Sold Brand: Units sold of Smirnoff is 43K<br>\n",
    "* Top Sold Product: Units sold of Smirnoff 80 Proof (50mL) is 29K<br>\n",
    "* Top Profitable Brand: Profit of Capt Morgan Spiced Rum is $161K<br>\n",
    "* Top Profitable Product: Capt Morgan Spiced Rum 1.75L is $118K<br>\n",
    "\n",
    "Vendor Performances:\n",
    "* Fastest delivery: Vendor Truett Hurst boasts the quickest delivery, with an average lead time of 5 days.<br>\n",
    "* Primary vendor: Total spent on Vendor Deageo North America Inc is whopping $46.4M<br>\n",
    "\n",
    "Other Notable Findings:\n",
    "* Most Expensive Alcohol on hand:  Patron En Lalique Tequila with a price of $5,682 per unit.<br>\n",
    "* Sales reached their highest point on January 30th, but experienced a decline in February.<br>\n",
    "* Sale trends during weekend as it is common for people to consume alcohol on Fridays & weekends.<br>\n",
    "* Top performing branches are in DonCaster with income of whopping $887K<br>\n",
    "* Average lead time is 8 days.<br>\n",
    "* Smirnoff 80 Proof 50mL requires the most stock with 3,705 units of reorder point. Which is expected because this is the highest sale velocity.<br>"
   ]
  }
 ],
 "metadata": {
  "kernelspec": {
   "display_name": "Python 3 (ipykernel)",
   "language": "python",
   "name": "python3"
  },
  "language_info": {
   "codemirror_mode": {
    "name": "ipython",
    "version": 3
   },
   "file_extension": ".py",
   "mimetype": "text/x-python",
   "name": "python",
   "nbconvert_exporter": "python",
   "pygments_lexer": "ipython3",
   "version": "3.12.0"
  }
 },
 "nbformat": 4,
 "nbformat_minor": 5
}
